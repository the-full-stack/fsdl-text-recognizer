{
 "cells": [
  {
   "cell_type": "code",
   "execution_count": 6,
   "metadata": {},
   "outputs": [
    {
     "name": "stdout",
     "output_type": "stream",
     "text": [
      "The autoreload extension is already loaded. To reload it, use:\n",
      "  %reload_ext autoreload\n"
     ]
    }
   ],
   "source": [
    "%load_ext autoreload\n",
    "%autoreload 2\n",
    "\n",
    "import os\n",
    "os.environ[\"CUDA_VISIBLE_DEVICES\"] = '0'\n",
    "\n",
    "import matplotlib.pyplot as plt\n",
    "import numpy as np\n",
    "\n",
    "import sys\n",
    "sys.path.append('..')\n",
    "from text_recognizer.models.line_rnn import LineLstm\n",
    "from text_recognizer.datasets.emnist_lines import EmnistLinesDataset\n",
    "from training.util import train_model, evaluate_model\n",
    "\n",
    "%matplotlib inline"
   ]
  },
  {
   "cell_type": "code",
   "execution_count": 2,
   "metadata": {},
   "outputs": [
    {
     "name": "stdout",
     "output_type": "stream",
     "text": [
      "EmnistLinesDataset loading data from HDF5...\n"
     ]
    }
   ],
   "source": [
    "dataset = EmnistLinesDataset(max_overlap=0.4)\n",
    "dataset.load_or_generate_data()"
   ]
  },
  {
   "cell_type": "code",
   "execution_count": 9,
   "metadata": {},
   "outputs": [
    {
     "name": "stdout",
     "output_type": "stream",
     "text": [
      "_________________________________________________________________\n",
      "Layer (type)                 Output Shape              Param #   \n",
      "=================================================================\n",
      "input_5 (InputLayer)         (None, 28, 896)           0         \n",
      "_________________________________________________________________\n",
      "reshape_7 (Reshape)          (None, 28, 896, 1)        0         \n",
      "_________________________________________________________________\n",
      "lambda_4 (Lambda)            (None, 32, 28, 28, 1)     0         \n",
      "_________________________________________________________________\n",
      "time_distributed_7 (TimeDist (None, 32, 128)           1198592   \n",
      "_________________________________________________________________\n",
      "cu_dnnlstm_3 (CuDNNLSTM)     (None, 2080)              18387200  \n",
      "_________________________________________________________________\n",
      "reshape_8 (Reshape)          (None, 32, 65)            0         \n",
      "_________________________________________________________________\n",
      "time_distributed_8 (TimeDist (None, 32, 65)            4290      \n",
      "=================================================================\n",
      "Total params: 19,590,082\n",
      "Trainable params: 19,590,082\n",
      "Non-trainable params: 0\n",
      "_________________________________________________________________\n",
      "Train on 7500 samples, validate on 2500 samples\n",
      "Epoch 1/10\n",
      "7500/7500 [==============================] - 12s 2ms/step - loss: 1.1921e-07 - acc: 4.9583e-04 - val_loss: 1.1921e-07 - val_acc: 3.1250e-04\n",
      "Epoch 2/10\n",
      "7500/7500 [==============================] - 10s 1ms/step - loss: 1.1921e-07 - acc: 4.9583e-04 - val_loss: 1.1921e-07 - val_acc: 3.1250e-04\n",
      "Epoch 3/10\n",
      "7500/7500 [==============================] - 10s 1ms/step - loss: 1.1921e-07 - acc: 4.9583e-04 - val_loss: 1.1921e-07 - val_acc: 3.1250e-04\n",
      "Epoch 4/10\n",
      "7500/7500 [==============================] - 10s 1ms/step - loss: 1.1921e-07 - acc: 4.9583e-04 - val_loss: 1.1921e-07 - val_acc: 3.1250e-04\n",
      "Epoch 00004: early stopping\n",
      "Training took 42.134095 s\n",
      "1000/1000 [==============================] - 1s 610us/step\n",
      "Test loss/accuracy: 1.1920930376163597e-07 0.00040625\n"
     ]
    },
    {
     "name": "stderr",
     "output_type": "stream",
     "text": [
      "/home/sergeyk/.local/share/virtualenvs/fsdl-text-recognizer-6Tfq_pVK/lib/python3.6/site-packages/numpy/core/fromnumeric.py:83: RuntimeWarning: invalid value encountered in reduce\n",
      "  return ufunc.reduce(obj, axis, dtype, out, **passkwargs)\n"
     ]
    },
    {
     "data": {
      "text/plain": [
       "('00000000000000000000000000000000', nan)"
      ]
     },
     "execution_count": 9,
     "metadata": {},
     "output_type": "execute_result"
    },
    {
     "data": {
      "image/png": "[encoded data removed]",
      "text/plain": [
       "<Figure size 1152x144 with 1 Axes>"
      ]
     },
     "metadata": {},
     "output_type": "display_data"
    }
   ],
   "source": [
    "# Why so many params in LSTM?\n",
    "# Don't forget that is has many gates\n",
    "# 4*(input_dim*lstm_dim + lstm_dim^2 + lstm_dim)\n",
    "\n",
    "model = LineLstm()\n",
    "history = train_model(\n",
    "    model=model.model,\n",
    "    x_train=dataset.x_train,\n",
    "    y_train=dataset.y_train,\n",
    "    epochs=10,\n",
    "    batch_size=128,\n",
    "    loss='categorical_crossentropy',\n",
    "    use_wandb=False\n",
    ")\n",
    "evaluate_model(model.model, dataset.x_test, dataset.y_test)\n",
    "plt.matshow(dataset.x_test[0])\n",
    "model.predict_on_image(dataset.x_test[0])"
   ]
  },
  {
   "cell_type": "code",
   "execution_count": 13,
   "metadata": {},
   "outputs": [
    {
     "name": "stdout",
     "output_type": "stream",
     "text": [
      "Epoch 1/10\n",
      "100/100 [==============================] - 24s 238ms/step - loss: 0.8184 - acc: 0.8128\n",
      "Epoch 2/10\n",
      "100/100 [==============================] - 24s 238ms/step - loss: 0.5544 - acc: 0.8834\n",
      "Epoch 3/10\n",
      "100/100 [==============================] - 24s 239ms/step - loss: 0.3625 - acc: 0.9282\n",
      "Epoch 4/10\n",
      "100/100 [==============================] - 24s 240ms/step - loss: 0.2398 - acc: 0.9564\n",
      "Epoch 5/10\n",
      "100/100 [==============================] - 24s 241ms/step - loss: 0.1603 - acc: 0.9735\n",
      "Epoch 6/10\n",
      "100/100 [==============================] - 24s 240ms/step - loss: 0.1012 - acc: 0.9839\n",
      "Epoch 7/10\n",
      "100/100 [==============================] - 24s 240ms/step - loss: 0.0543 - acc: 0.9939\n",
      "Epoch 8/10\n",
      " 46/100 [============>.................] - ETA: 12s - loss: 0.0282 - acc: 0.9979"
     ]
    },
    {
     "ename": "KeyboardInterrupt",
     "evalue": "",
     "output_type": "error",
     "traceback": [
      "\u001b[0;31m---------------------------------------------------------------------------\u001b[0m",
      "\u001b[0;31mKeyboardInterrupt\u001b[0m                         Traceback (most recent call last)",
      "\u001b[0;32m<ipython-input-13-fd653270eb05>\u001b[0m in \u001b[0;36m<module>\u001b[0;34m()\u001b[0m\n\u001b[1;32m      7\u001b[0m     \u001b[0msteps_per_epoch\u001b[0m\u001b[0;34m=\u001b[0m\u001b[0;36m100\u001b[0m\u001b[0;34m,\u001b[0m\u001b[0;34m\u001b[0m\u001b[0m\n\u001b[1;32m      8\u001b[0m     \u001b[0mbatch_size\u001b[0m\u001b[0;34m=\u001b[0m\u001b[0;32mNone\u001b[0m\u001b[0;34m,\u001b[0m\u001b[0;34m\u001b[0m\u001b[0m\n\u001b[0;32m----> 9\u001b[0;31m     \u001b[0mverbose\u001b[0m\u001b[0;34m=\u001b[0m\u001b[0;36m1\u001b[0m\u001b[0;34m\u001b[0m\u001b[0m\n\u001b[0m\u001b[1;32m     10\u001b[0m )\n",
      "\u001b[0;32m~/.local/share/virtualenvs/fsdl-text-recognizer-6Tfq_pVK/lib/python3.6/site-packages/tensorflow/python/keras/engine/training.py\u001b[0m in \u001b[0;36mfit\u001b[0;34m(self, x, y, batch_size, epochs, verbose, callbacks, validation_split, validation_data, shuffle, class_weight, sample_weight, initial_epoch, steps_per_epoch, validation_steps, **kwargs)\u001b[0m\n\u001b[1;32m   1346\u001b[0m           \u001b[0minitial_epoch\u001b[0m\u001b[0;34m=\u001b[0m\u001b[0minitial_epoch\u001b[0m\u001b[0;34m,\u001b[0m\u001b[0;34m\u001b[0m\u001b[0m\n\u001b[1;32m   1347\u001b[0m           \u001b[0msteps_per_epoch\u001b[0m\u001b[0;34m=\u001b[0m\u001b[0msteps_per_epoch\u001b[0m\u001b[0;34m,\u001b[0m\u001b[0;34m\u001b[0m\u001b[0m\n\u001b[0;32m-> 1348\u001b[0;31m           validation_steps=validation_steps)\n\u001b[0m\u001b[1;32m   1349\u001b[0m \u001b[0;34m\u001b[0m\u001b[0m\n\u001b[1;32m   1350\u001b[0m   def evaluate(self,\n",
      "\u001b[0;32m~/.local/share/virtualenvs/fsdl-text-recognizer-6Tfq_pVK/lib/python3.6/site-packages/tensorflow/python/keras/engine/training_arrays.py\u001b[0m in \u001b[0;36mfit_loop\u001b[0;34m(model, inputs, targets, sample_weights, batch_size, epochs, verbose, callbacks, val_inputs, val_targets, val_sample_weights, shuffle, callback_metrics, initial_epoch, steps_per_epoch, validation_steps)\u001b[0m\n\u001b[1;32m    192\u001b[0m         \u001b[0mcallbacks\u001b[0m\u001b[0;34m.\u001b[0m\u001b[0mon_batch_begin\u001b[0m\u001b[0;34m(\u001b[0m\u001b[0mstep_index\u001b[0m\u001b[0;34m,\u001b[0m \u001b[0mbatch_logs\u001b[0m\u001b[0;34m)\u001b[0m\u001b[0;34m\u001b[0m\u001b[0m\n\u001b[1;32m    193\u001b[0m         \u001b[0;32mtry\u001b[0m\u001b[0;34m:\u001b[0m\u001b[0;34m\u001b[0m\u001b[0m\n\u001b[0;32m--> 194\u001b[0;31m           \u001b[0mouts\u001b[0m \u001b[0;34m=\u001b[0m \u001b[0mf\u001b[0m\u001b[0;34m(\u001b[0m\u001b[0mins\u001b[0m\u001b[0;34m)\u001b[0m\u001b[0;34m\u001b[0m\u001b[0m\n\u001b[0m\u001b[1;32m    195\u001b[0m         \u001b[0;32mexcept\u001b[0m \u001b[0merrors\u001b[0m\u001b[0;34m.\u001b[0m\u001b[0mOutOfRangeError\u001b[0m\u001b[0;34m:\u001b[0m\u001b[0;34m\u001b[0m\u001b[0m\n\u001b[1;32m    196\u001b[0m           logging.warning('Your dataset iterator ran out of data; '\n",
      "\u001b[0;32m~/.local/share/virtualenvs/fsdl-text-recognizer-6Tfq_pVK/lib/python3.6/site-packages/tensorflow/python/keras/backend.py\u001b[0m in \u001b[0;36m__call__\u001b[0;34m(self, inputs)\u001b[0m\n\u001b[1;32m   2895\u001b[0m       \u001b[0mself\u001b[0m\u001b[0;34m.\u001b[0m\u001b[0m_make_callable\u001b[0m\u001b[0;34m(\u001b[0m\u001b[0mfeed_arrays\u001b[0m\u001b[0;34m,\u001b[0m \u001b[0mfeed_symbols\u001b[0m\u001b[0;34m,\u001b[0m \u001b[0msymbol_vals\u001b[0m\u001b[0;34m,\u001b[0m \u001b[0msession\u001b[0m\u001b[0;34m)\u001b[0m\u001b[0;34m\u001b[0m\u001b[0m\n\u001b[1;32m   2896\u001b[0m \u001b[0;34m\u001b[0m\u001b[0m\n\u001b[0;32m-> 2897\u001b[0;31m     \u001b[0mfetched\u001b[0m \u001b[0;34m=\u001b[0m \u001b[0mself\u001b[0m\u001b[0;34m.\u001b[0m\u001b[0m_callable_fn\u001b[0m\u001b[0;34m(\u001b[0m\u001b[0;34m*\u001b[0m\u001b[0marray_vals\u001b[0m\u001b[0;34m)\u001b[0m\u001b[0;34m\u001b[0m\u001b[0m\n\u001b[0m\u001b[1;32m   2898\u001b[0m     \u001b[0;32mreturn\u001b[0m \u001b[0mfetched\u001b[0m\u001b[0;34m[\u001b[0m\u001b[0;34m:\u001b[0m\u001b[0mlen\u001b[0m\u001b[0;34m(\u001b[0m\u001b[0mself\u001b[0m\u001b[0;34m.\u001b[0m\u001b[0moutputs\u001b[0m\u001b[0;34m)\u001b[0m\u001b[0;34m]\u001b[0m\u001b[0;34m\u001b[0m\u001b[0m\n\u001b[1;32m   2899\u001b[0m \u001b[0;34m\u001b[0m\u001b[0m\n",
      "\u001b[0;32m~/.local/share/virtualenvs/fsdl-text-recognizer-6Tfq_pVK/lib/python3.6/site-packages/tensorflow/python/client/session.py\u001b[0m in \u001b[0;36m__call__\u001b[0;34m(self, *args)\u001b[0m\n\u001b[1;32m   1449\u001b[0m         \u001b[0;32mif\u001b[0m \u001b[0mself\u001b[0m\u001b[0;34m.\u001b[0m\u001b[0m_session\u001b[0m\u001b[0;34m.\u001b[0m\u001b[0m_created_with_new_api\u001b[0m\u001b[0;34m:\u001b[0m\u001b[0;34m\u001b[0m\u001b[0m\n\u001b[1;32m   1450\u001b[0m           return tf_session.TF_SessionRunCallable(\n\u001b[0;32m-> 1451\u001b[0;31m               self._session._session, self._handle, args, status, None)\n\u001b[0m\u001b[1;32m   1452\u001b[0m         \u001b[0;32melse\u001b[0m\u001b[0;34m:\u001b[0m\u001b[0;34m\u001b[0m\u001b[0m\n\u001b[1;32m   1453\u001b[0m           return tf_session.TF_DeprecatedSessionRunCallable(\n",
      "\u001b[0;31mKeyboardInterrupt\u001b[0m: "
     ]
    }
   ],
   "source": [
    "# Let's try to overfit on a single batch\n",
    "\n",
    "model.model.fit(\n",
    "    dataset.x_train[:128],\n",
    "    dataset.y_train[:128],\n",
    "    epochs=10,\n",
    "    steps_per_epoch=100,\n",
    "    batch_size=None,\n",
    "    verbose=1\n",
    ")"
   ]
  },
  {
   "cell_type": "code",
   "execution_count": 4,
   "metadata": {},
   "outputs": [
    {
     "name": "stdout",
     "output_type": "stream",
     "text": [
      "_________________________________________________________________\n",
      "Layer (type)                 Output Shape              Param #   \n",
      "=================================================================\n",
      "input_2 (InputLayer)         (None, 28, 896)           0         \n",
      "_________________________________________________________________\n",
      "reshape_1 (Reshape)          (None, 28, 896, 1)        0         \n",
      "_________________________________________________________________\n",
      "lambda_1 (Lambda)            (None, 32, 28, 28, 1)     0         \n",
      "_________________________________________________________________\n",
      "time_distributed_1 (TimeDist (None, 32, 128)           1198592   \n",
      "_________________________________________________________________\n",
      "cu_dnnlstm (CuDNNLSTM)       (None, 2080)              18387200  \n",
      "_________________________________________________________________\n",
      "reshape_2 (Reshape)          (None, 32, 65)            0         \n",
      "_________________________________________________________________\n",
      "time_distributed_2 (TimeDist (None, 32, 65)            4290      \n",
      "=================================================================\n",
      "Total params: 19,590,082\n",
      "Trainable params: 19,590,082\n",
      "Non-trainable params: 0\n",
      "_________________________________________________________________\n",
      "Train on 7500 samples, validate on 2500 samples\n",
      "Epoch 1/50\n",
      "7500/7500 [==============================] - 15s 2ms/step - loss: 3.2262 - acc: 0.3416 - val_loss: 2.1544 - val_acc: 0.5049\n",
      "Epoch 2/50\n",
      "7500/7500 [==============================] - 11s 1ms/step - loss: 1.9407 - acc: 0.5220 - val_loss: 1.8096 - val_acc: 0.5403\n",
      "Epoch 3/50\n",
      "7500/7500 [==============================] - 11s 1ms/step - loss: 1.7667 - acc: 0.5390 - val_loss: 1.6747 - val_acc: 0.5515\n",
      "Epoch 4/50\n",
      "7500/7500 [==============================] - 11s 1ms/step - loss: 1.7116 - acc: 0.5436 - val_loss: 1.6417 - val_acc: 0.5545\n",
      "Epoch 5/50\n",
      "7500/7500 [==============================] - 11s 1ms/step - loss: 1.6674 - acc: 0.5501 - val_loss: 1.6936 - val_acc: 0.5452\n",
      "Epoch 6/50\n",
      "7500/7500 [==============================] - 11s 1ms/step - loss: 1.6290 - acc: 0.5570 - val_loss: 1.6043 - val_acc: 0.5631\n",
      "Epoch 7/50\n",
      "7500/7500 [==============================] - 11s 1ms/step - loss: 1.6023 - acc: 0.5626 - val_loss: 1.5703 - val_acc: 0.5702\n",
      "Epoch 8/50\n",
      "7500/7500 [==============================] - 11s 1ms/step - loss: 1.5738 - acc: 0.5686 - val_loss: 1.5472 - val_acc: 0.5756\n",
      "Epoch 9/50\n",
      "7500/7500 [==============================] - 11s 1ms/step - loss: 1.5453 - acc: 0.5744 - val_loss: 1.5159 - val_acc: 0.5801\n",
      "Epoch 10/50\n",
      "7500/7500 [==============================] - 11s 1ms/step - loss: 1.5214 - acc: 0.5816 - val_loss: 1.5000 - val_acc: 0.5824\n",
      "Epoch 11/50\n",
      "7500/7500 [==============================] - 11s 1ms/step - loss: 1.4828 - acc: 0.5877 - val_loss: 1.4605 - val_acc: 0.5954\n",
      "Epoch 12/50\n",
      "7500/7500 [==============================] - 11s 1ms/step - loss: 1.4496 - acc: 0.5957 - val_loss: 1.4309 - val_acc: 0.6011\n",
      "Epoch 13/50\n",
      "7500/7500 [==============================] - 11s 1ms/step - loss: 1.4161 - acc: 0.6037 - val_loss: 1.3988 - val_acc: 0.6067\n",
      "Epoch 14/50\n",
      "7500/7500 [==============================] - 11s 1ms/step - loss: 1.3796 - acc: 0.6119 - val_loss: 1.3711 - val_acc: 0.6149\n",
      "Epoch 15/50\n",
      "7500/7500 [==============================] - 11s 1ms/step - loss: 1.3431 - acc: 0.6214 - val_loss: 1.3715 - val_acc: 0.6158\n",
      "Epoch 16/50\n",
      "7500/7500 [==============================] - 11s 1ms/step - loss: 1.3106 - acc: 0.6298 - val_loss: 1.3315 - val_acc: 0.6269\n",
      "Epoch 17/50\n",
      "7500/7500 [==============================] - 11s 1ms/step - loss: 1.2713 - acc: 0.6399 - val_loss: 1.3084 - val_acc: 0.6315\n",
      "Epoch 18/50\n",
      "7500/7500 [==============================] - 11s 1ms/step - loss: 1.2314 - acc: 0.6510 - val_loss: 1.2639 - val_acc: 0.6423\n",
      "Epoch 19/50\n",
      "7500/7500 [==============================] - 11s 1ms/step - loss: 1.1909 - acc: 0.6616 - val_loss: 1.2448 - val_acc: 0.6479\n",
      "Epoch 20/50\n",
      "7500/7500 [==============================] - 11s 1ms/step - loss: 1.1489 - acc: 0.6730 - val_loss: 1.2192 - val_acc: 0.6542\n",
      "Epoch 21/50\n",
      "7500/7500 [==============================] - 11s 1ms/step - loss: 1.1012 - acc: 0.6870 - val_loss: 1.2054 - val_acc: 0.6591\n",
      "Epoch 22/50\n",
      "7500/7500 [==============================] - 11s 1ms/step - loss: 1.0500 - acc: 0.7014 - val_loss: 1.1765 - val_acc: 0.6653\n",
      "Epoch 23/50\n",
      "7500/7500 [==============================] - 11s 1ms/step - loss: 1.0001 - acc: 0.7159 - val_loss: 1.1639 - val_acc: 0.6710\n",
      "Epoch 24/50\n",
      "7500/7500 [==============================] - 11s 1ms/step - loss: 0.9472 - acc: 0.7311 - val_loss: 1.1515 - val_acc: 0.6756\n",
      "Epoch 25/50\n",
      "7500/7500 [==============================] - 11s 1ms/step - loss: 0.8887 - acc: 0.7481 - val_loss: 1.1403 - val_acc: 0.6801\n",
      "Epoch 26/50\n",
      "7500/7500 [==============================] - 11s 1ms/step - loss: 0.8172 - acc: 0.7697 - val_loss: 1.1314 - val_acc: 0.6843\n",
      "Epoch 27/50\n",
      "7500/7500 [==============================] - 11s 1ms/step - loss: 0.7608 - acc: 0.7854 - val_loss: 1.1424 - val_acc: 0.6846\n",
      "Epoch 00027: early stopping\n",
      "Training took 301.150692 s\n",
      "1000/1000 [==============================] - 1s 700us/step\n",
      "Test loss/accuracy: 1.1265289454460143 0.6909375\n"
     ]
    },
    {
     "data": {
      "text/plain": [
       "('canrd the aatros  n   ane_______', 0.11916898)"
      ]
     },
     "execution_count": 4,
     "metadata": {},
     "output_type": "execute_result"
    },
    {
     "data": {
      "image/png": "[encoded data removed]",
      "text/plain": [
       "<Figure size 1152x144 with 1 Axes>"
      ]
     },
     "metadata": {},
     "output_type": "display_data"
    }
   ],
   "source": [
    "# Now that we know that this model *can* overfit on this data,\n",
    "# let's see if it can learn\n",
    "\n",
    "model = LineLstm()\n",
    "history = train_model(\n",
    "    model=model.model,\n",
    "    x_train=dataset.x_train,\n",
    "    y_train=dataset.y_train,\n",
    "    epochs=50,\n",
    "    batch_size=128,\n",
    "    loss='categorical_crossentropy',\n",
    "    use_wandb=False\n",
    ")\n",
    "evaluate_model(model.model, dataset.x_test, dataset.y_test)\n",
    "plt.matshow(dataset.x_test[0])\n",
    "model.predict_on_image(dataset.x_test[0])"
   ]
  },
  {
   "cell_type": "code",
   "execution_count": 17,
   "metadata": {},
   "outputs": [
    {
     "data": {
      "text/plain": [
       "(10000, 32, 65)"
      ]
     },
     "execution_count": 17,
     "metadata": {},
     "output_type": "execute_result"
    }
   ],
   "source": [
    "dataset.y_train.shape"
   ]
  },
  {
   "cell_type": "code",
   "execution_count": 21,
   "metadata": {},
   "outputs": [
    {
     "name": "stdout",
     "output_type": "stream",
     "text": [
      "_________________________________________________________________\n",
      "Layer (type)                 Output Shape              Param #   \n",
      "=================================================================\n",
      "input_8 (InputLayer)         (None, 32, 65)            0         \n",
      "_________________________________________________________________\n",
      "time_distributed_11 (TimeDis (None, 32, 65)            4290      \n",
      "=================================================================\n",
      "Total params: 4,290\n",
      "Trainable params: 4,290\n",
      "Non-trainable params: 0\n",
      "_________________________________________________________________\n",
      "Epoch 1/10\n",
      "10000/10000 [==============================] - 1s 107us/step - loss: 3.4693\n",
      "Epoch 2/10\n",
      "10000/10000 [==============================] - 1s 76us/step - loss: 2.4957\n",
      "Epoch 3/10\n",
      "10000/10000 [==============================] - 1s 78us/step - loss: 2.1584\n",
      "Epoch 4/10\n",
      "10000/10000 [==============================] - 1s 78us/step - loss: 2.0117\n",
      "Epoch 5/10\n",
      "10000/10000 [==============================] - 1s 78us/step - loss: 1.9039\n",
      "Epoch 6/10\n",
      "10000/10000 [==============================] - 1s 78us/step - loss: 1.8098\n",
      "Epoch 7/10\n",
      "10000/10000 [==============================] - 1s 77us/step - loss: 1.7239\n",
      "Epoch 8/10\n",
      "10000/10000 [==============================] - 1s 73us/step - loss: 1.6447\n",
      "Epoch 9/10\n",
      "10000/10000 [==============================] - 1s 81us/step - loss: 1.5716\n",
      "Epoch 10/10\n",
      "10000/10000 [==============================] - 1s 77us/step - loss: 1.5040\n"
     ]
    },
    {
     "data": {
      "text/plain": [
       "<tensorflow.python.keras.callbacks.History at 0x7fe65c454240>"
      ]
     },
     "execution_count": 21,
     "metadata": {},
     "output_type": "execute_result"
    }
   ],
   "source": []
  },
  {
   "cell_type": "code",
   "execution_count": null,
   "metadata": {},
   "outputs": [],
   "source": []
  }
 ],
 "metadata": {
  "kernelspec": {
   "display_name": "Python 3",
   "language": "python",
   "name": "python3"
  },
  "language_info": {
   "codemirror_mode": {
    "name": "ipython",
    "version": 3
   },
   "file_extension": ".py",
   "mimetype": "text/x-python",
   "name": "python",
   "nbconvert_exporter": "python",
   "pygments_lexer": "ipython3",
   "version": "3.7.7"
  }
 },
 "nbformat": 4,
 "nbformat_minor": 4
}
