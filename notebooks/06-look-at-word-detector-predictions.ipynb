{
 "cells": [
  {
   "cell_type": "code",
   "execution_count": 1,
   "metadata": {},
   "outputs": [
    {
     "ename": "ImportError",
     "evalue": "cannot import name 'fcn_gated'",
     "output_type": "error",
     "traceback": [
      "\u001b[0;31m---------------------------------------------------------------------------\u001b[0m",
      "\u001b[0;31mImportError\u001b[0m                               Traceback (most recent call last)",
      "\u001b[0;32m<ipython-input-1-80aeffc50bdb>\u001b[0m in \u001b[0;36m<module>\u001b[0;34m\u001b[0m\n\u001b[1;32m     17\u001b[0m \u001b[0;32mfrom\u001b[0m \u001b[0mtext_recognizer\u001b[0m\u001b[0;34m.\u001b[0m\u001b[0mmodels\u001b[0m \u001b[0;32mimport\u001b[0m \u001b[0mLineDetectorModel\u001b[0m\u001b[0;34m\u001b[0m\u001b[0;34m\u001b[0m\u001b[0m\n\u001b[1;32m     18\u001b[0m \u001b[0;32mfrom\u001b[0m \u001b[0mtext_recognizer\u001b[0m \u001b[0;32mimport\u001b[0m \u001b[0mutil\u001b[0m\u001b[0;34m\u001b[0m\u001b[0;34m\u001b[0m\u001b[0m\n\u001b[0;32m---> 19\u001b[0;31m \u001b[0;32mfrom\u001b[0m \u001b[0mtext_recognizer\u001b[0m\u001b[0;34m.\u001b[0m\u001b[0mnetworks\u001b[0m \u001b[0;32mimport\u001b[0m \u001b[0mfcn\u001b[0m\u001b[0;34m,\u001b[0m \u001b[0mfcn_gated\u001b[0m\u001b[0;34m\u001b[0m\u001b[0;34m\u001b[0m\u001b[0m\n\u001b[0m",
      "\u001b[0;31mImportError\u001b[0m: cannot import name 'fcn_gated'"
     ]
    }
   ],
   "source": [
    "%load_ext autoreload\n",
    "%autoreload 2\n",
    "\n",
    "import cv2\n",
    "import numpy as np\n",
    "import matplotlib.pyplot as plt\n",
    "%matplotlib inline\n",
    "\n",
    "try:\n",
    "    import text_recognizer\n",
    "except ImportError:\n",
    "    import sys\n",
    "    sys.path.append('..')\n",
    "\n",
    "from text_recognizer.datasets import IamDatasetW\n",
    "from text_recognizer.datasets import IamWordsDataset\n",
    "from text_recognizer.models import LineDetectorModel\n",
    "from text_recognizer import util\n",
    "from text_recognizer.networks import fcn, fcn_gated"
   ]
  },
  {
   "cell_type": "code",
   "execution_count": null,
   "metadata": {},
   "outputs": [],
   "source": [
    "network = fcn_gated\n",
    "dataset_args={\"image_dim\": 512, \"num_classes\": 3}"
   ]
  },
  {
   "cell_type": "code",
   "execution_count": null,
   "metadata": {},
   "outputs": [],
   "source": [
    "paragraphs_dataset = IamWordsDataset(**dataset_args)\n",
    "paragraphs_dataset.load_or_generate_data()\n",
    "print(paragraphs_dataset)"
   ]
  },
  {
   "cell_type": "code",
   "execution_count": null,
   "metadata": {},
   "outputs": [],
   "source": [
    "line_detector_model = LineDetectorModel(IamWordsDataset, network, dataset_args)\n",
    "line_detector_model.load_weights()"
   ]
  },
  {
   "cell_type": "code",
   "execution_count": null,
   "metadata": {},
   "outputs": [],
   "source": [
    "line_detector_model.name"
   ]
  },
  {
   "cell_type": "code",
   "execution_count": null,
   "metadata": {},
   "outputs": [],
   "source": [
    "# Let's look at some test images, ground truth, and predictions\n",
    "\n",
    "for ind in range(5):\n",
    "    image = paragraphs_dataset.x_test[ind]\n",
    "    gt = paragraphs_dataset.y_test[ind].argmax(-1)\n",
    "    pred = line_detector_model.predict_on_image(image).argmax(-1)\n",
    "\n",
    "    fig = plt.figure(figsize=(15, 5))\n",
    "    ax1 = fig.add_subplot(131)\n",
    "    ax1.matshow(image, cmap='gray')\n",
    "    ax2 = fig.add_subplot(132)\n",
    "    ax2.matshow(gt, cmap='gray')\n",
    "    ax3 = fig.add_subplot(133)\n",
    "    ax3.matshow(pred, cmap='gray')"
   ]
  },
  {
   "cell_type": "code",
   "execution_count": null,
   "metadata": {},
   "outputs": [],
   "source": [
    "# Let's also look at the training data augmentations\n",
    "\n",
    "x_batch, y_batch = paragraphs_dataset.x_train[:4], paragraphs_dataset.y_train[:4]\n",
    "x_batch_aug, y_batch_aug = line_detector_model.augment_batch(x_batch, y_batch)\n",
    "\n",
    "for ind in range(x_batch_aug.shape[0]):\n",
    "    fig = plt.figure(figsize=(15, 5))\n",
    "    ax1 = fig.add_subplot(121)\n",
    "    ax1.matshow(x_batch_aug[ind], cmap='gray')\n",
    "    ax2 = fig.add_subplot(122)\n",
    "    ax2.matshow(y_batch_aug[ind].argmax(-1), cmap='gray')"
   ]
  },
  {
   "cell_type": "code",
   "execution_count": null,
   "metadata": {},
   "outputs": [],
   "source": []
  }
 ],
 "metadata": {
  "kernelspec": {
   "display_name": "Python 3",
   "language": "python",
   "name": "python3"
  },
  "language_info": {
   "codemirror_mode": {
    "name": "ipython",
    "version": 3
   },
   "file_extension": ".py",
   "mimetype": "text/x-python",
   "name": "python",
   "nbconvert_exporter": "python",
   "pygments_lexer": "ipython3",
   "version": "3.6.7"
  }
 },
 "nbformat": 4,
 "nbformat_minor": 2
}
