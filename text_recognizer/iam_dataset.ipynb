{
 "cells": [
  {
   "cell_type": "code",
   "execution_count": 12,
   "metadata": {},
   "outputs": [],
   "source": [
    "import os\n",
    "import string\n",
    "import json\n",
    "import cv2\n",
    "import numpy as np"
   ]
  },
  {
   "cell_type": "code",
   "execution_count": 14,
   "metadata": {},
   "outputs": [
    {
     "name": "stdout",
     "output_type": "stream",
     "text": [
      "forms\t      formsI-Z.tgz\t     LWITLR_task    resized_words_5\r\n",
      "formsA-D.tgz  label_by_line_id.json  resized_lines  words_5\r\n",
      "formsE-H.tgz  lines\t\t     resized_words  xml\r\n"
     ]
    }
   ],
   "source": [
    "_DATA_DIRNAME = '../../handwriting_recognition/data/iam'\n",
    "!ls {_DATA_DIRNAME}"
   ]
  },
  {
   "cell_type": "code",
   "execution_count": 15,
   "metadata": {},
   "outputs": [],
   "source": [
    "def get_reverse_dict(input_dict):\n",
    "    return {v: k for k, v in input_dict.items()}\n",
    "\n",
    "def read_image(image_uri, grayscale=True):\n",
    "    \"\"\"\n",
    "    Read image_uri.\n",
    "    \"\"\"\n",
    "    def read_image_from_filename(image_filename, grayscale):\n",
    "        imread_flag = cv2.IMREAD_GRAYSCALE if grayscale else cv2.IMREAD_COLOR\n",
    "        return cv2.imread(image_filename, imread_flag)\n",
    "\n",
    "    def read_image_from_url(image_url, grayscale):\n",
    "        url_response = urlopen(image_url)\n",
    "        img_array = np.array(bytearray(url_response.read()), dtype=np.uint8)\n",
    "        imread_flag = cv2.IMREAD_GRAYSCALE if grayscale else cv2.IMREAD_COLOR\n",
    "        return cv2.imdecode(img_array, imread_flag)\n",
    "\n",
    "    local_file = os.path.exists(image_uri)\n",
    "    try:\n",
    "        img = None\n",
    "        if local_file:\n",
    "            img = read_image_from_filename(image_uri, grayscale)\n",
    "        else:\n",
    "            img = read_image_from_url(image_uri, grayscale)\n",
    "    except Exception as e:\n",
    "        raise ValueError(\"Could not load image at {}: {}\".format(image_uri, e))\n",
    "    return img\n",
    "\n",
    "def resize(image, scale_factor):\n",
    "    \"\"\"\n",
    "    Resize image.\n",
    "    OpenCV does not resize in place, hence need to copy and return in case\n",
    "    scale_factor is 1 to maintain consistency in behaviour\n",
    "    \"\"\"\n",
    "    if scale_factor == 1:\n",
    "        return image.copy()\n",
    "    return cv2.resize(\n",
    "        image,\n",
    "        dsize=None,\n",
    "        fx=scale_factor,\n",
    "        fy=scale_factor,\n",
    "        interpolation=cv2.INTER_AREA\n",
    "    )"
   ]
  },
  {
   "cell_type": "code",
   "execution_count": 16,
   "metadata": {},
   "outputs": [],
   "source": [
    "def char_to_int_mapping():\n",
    "    \"\"\"\n",
    "    Creates and returns a hash table mapping the characters to integer class indexes.\n",
    "    The characters are an extension of IAM graphemes.\n",
    "        00 -- 09: Digits\n",
    "        10 -- 35: Capital Letters\n",
    "        36 -- 61: Lower Letters\n",
    "        62 -- 76: - , ; : ! ? / . ' \" ( ) * & +\n",
    "        77: # (garbage symbol)\n",
    "        78: word separator (space in ground truth)\n",
    "        79 -- 92: = _ [ ] { } ^ $ > < % | @ ~\n",
    "        93: <ctc blank label> - not a part of the dict\n",
    "    \"\"\"\n",
    "    return {\n",
    "        char: ind for ind, char\n",
    "        in enumerate(\n",
    "            string.digits +\n",
    "            string.ascii_uppercase +\n",
    "            string.ascii_lowercase +\n",
    "            '-,;:!?/.\\'\"()*&+# =_[]{}^$><%|@~'\n",
    "        )\n",
    "    }\n",
    "\n",
    "char_to_int_dict = char_to_int_mapping()"
   ]
  },
  {
   "cell_type": "code",
   "execution_count": 20,
   "metadata": {},
   "outputs": [],
   "source": [
    "def get_iam_labels(label_file):\n",
    "    with open(label_file, 'r') as f:\n",
    "        labels_dict = json.load(f)\n",
    "    return labels_dict\n",
    "\n",
    "\n",
    "def get_line_id_from_filename(filename):\n",
    "    \"\"\"\n",
    "    Input example: '../data/iam/words_5/g06-031e-02-00.png' or '../data/iam/words_5/g06-031e-02.png'\n",
    "    Output example: 'g06-031e-02'  (line_id)\n",
    "    \"\"\"\n",
    "    return '-'.join(os.path.splitext(os.path.basename(filename))[0].split('-')[:3])\n",
    "\n",
    "\n",
    "def iam_helper(image_directory, label_dict, label_to_int_mapping, image_height):\n",
    "    \"\"\"Create an IAM dataset object from IAM-DB images\n",
    "    Args:\n",
    "        buckets: a sorted list of integers describing image widths of all buckets\n",
    "        label_dict: a dictionary with key being image id and value being its label\n",
    "    \"\"\"\n",
    "    dirname = os.path.join(_DATA_DIRNAME, 'LWITLR_task')\n",
    "    train_index_path = os.path.join(dirname, 'trainset.txt')\n",
    "    val_index_path = os.path.join(dirname, 'validationset2.txt')\n",
    "    test_index_path = os.path.join(dirname, 'testset.txt')\n",
    "\n",
    "    assert os.path.exists(train_index_path) and os.path.exists(val_index_path) and os.path.exists(test_index_path)\n",
    "\n",
    "    int_to_label_mapping = get_reverse_dict(label_to_int_mapping)\n",
    "\n",
    "    def load_iam_lines(index_path):\n",
    "        with open(index_path, 'r') as f:\n",
    "            image_filenames = f.read().splitlines()\n",
    "        image_filenames = [os.path.join(image_directory, '{}.png'.format(fname)) for fname in image_filenames]\n",
    "        return load(image_filenames, get_line_id_from_filename)\n",
    "\n",
    "    def load_image(image_filename):\n",
    "        image = read_image(image_filename, grayscale=True)\n",
    "        #image = 255. - image\n",
    "        image = resize(image, (image_height / image.shape[0]))\n",
    "        return image / 255.\n",
    "        \n",
    "    def load(image_filenames, get_label_key_func):\n",
    "        images = [load_image(fname) for fname in image_filenames]\n",
    "        labels = [label_dict[get_label_key_func(filename)] for filename in image_filenames]\n",
    "        int_labels = [[label_to_int_mapping[c] for c in label] for label in labels]\n",
    "        return images, labels,  #int_labels\n",
    "\n",
    "    x_train, y_train = load_iam_lines(train_index_path), \n",
    "    x_val, y_val = load_iam_lines(val_index_path), \n",
    "    x_test, y_test = load_iam_lines(test_index_path)\n",
    "\n",
    "    print(f'Number of images in train: {len(x_train)}')\n",
    "    print(f'Number of images in val: {len(x_val)}')\n",
    "    print(f'Number of images in test: {len(x_test)}')\n",
    "\n",
    "    return x_train, y_train, x_val, y_val, x_test, y_test"
   ]
  },
  {
   "cell_type": "code",
   "execution_count": 19,
   "metadata": {},
   "outputs": [
    {
     "ename": "ValueError",
     "evalue": "not enough values to unpack (expected 2, got 1)",
     "output_type": "error",
     "traceback": [
      "\u001b[0;31m---------------------------------------------------------------------------\u001b[0m",
      "\u001b[0;31mValueError\u001b[0m                                Traceback (most recent call last)",
      "\u001b[0;32m<ipython-input-19-53c7bab0ccef>\u001b[0m in \u001b[0;36m<module>\u001b[0;34m()\u001b[0m\n\u001b[1;32m      9\u001b[0m     \u001b[0mlabel_dict\u001b[0m\u001b[0;34m=\u001b[0m\u001b[0mlabel_by_line_id\u001b[0m\u001b[0;34m,\u001b[0m\u001b[0;34m\u001b[0m\u001b[0m\n\u001b[1;32m     10\u001b[0m     \u001b[0mlabel_to_int_mapping\u001b[0m\u001b[0;34m=\u001b[0m\u001b[0mchar_to_int_dict\u001b[0m\u001b[0;34m,\u001b[0m\u001b[0;34m\u001b[0m\u001b[0m\n\u001b[0;32m---> 11\u001b[0;31m     \u001b[0mimage_height\u001b[0m\u001b[0;34m=\u001b[0m\u001b[0mimage_height\u001b[0m\u001b[0;34m\u001b[0m\u001b[0m\n\u001b[0m\u001b[1;32m     12\u001b[0m )\n",
      "\u001b[0;32m<ipython-input-17-536168ff2adc>\u001b[0m in \u001b[0;36miam_helper\u001b[0;34m(image_directory, label_dict, label_to_int_mapping, image_height)\u001b[0m\n\u001b[1;32m     43\u001b[0m         \u001b[0;32mreturn\u001b[0m \u001b[0mimages\u001b[0m\u001b[0;34m,\u001b[0m \u001b[0mlabels\u001b[0m\u001b[0;34m,\u001b[0m  \u001b[0;31m#int_labels\u001b[0m\u001b[0;34m\u001b[0m\u001b[0m\n\u001b[1;32m     44\u001b[0m \u001b[0;34m\u001b[0m\u001b[0m\n\u001b[0;32m---> 45\u001b[0;31m     \u001b[0mx_train\u001b[0m\u001b[0;34m,\u001b[0m \u001b[0my_train\u001b[0m \u001b[0;34m=\u001b[0m \u001b[0mload_iam_lines\u001b[0m\u001b[0;34m(\u001b[0m\u001b[0mtrain_index_path\u001b[0m\u001b[0;34m)\u001b[0m\u001b[0;34m,\u001b[0m\u001b[0;34m\u001b[0m\u001b[0m\n\u001b[0m\u001b[1;32m     46\u001b[0m     \u001b[0mx_val\u001b[0m\u001b[0;34m,\u001b[0m \u001b[0my_val\u001b[0m \u001b[0;34m=\u001b[0m \u001b[0mload_iam_lines\u001b[0m\u001b[0;34m(\u001b[0m\u001b[0mval_index_path\u001b[0m\u001b[0;34m)\u001b[0m\u001b[0;34m,\u001b[0m\u001b[0;34m\u001b[0m\u001b[0m\n\u001b[1;32m     47\u001b[0m     \u001b[0mx_test\u001b[0m\u001b[0;34m,\u001b[0m \u001b[0my_test\u001b[0m \u001b[0;34m=\u001b[0m \u001b[0mload_iam_lines\u001b[0m\u001b[0;34m(\u001b[0m\u001b[0mtest_index_path\u001b[0m\u001b[0;34m)\u001b[0m\u001b[0;34m\u001b[0m\u001b[0m\n",
      "\u001b[0;31mValueError\u001b[0m: not enough values to unpack (expected 2, got 1)"
     ]
    }
   ],
   "source": [
    "image_height = 28\n",
    "image_directory = os.path.join(_DATA_DIRNAME, 'lines')\n",
    "label_by_line_id = get_iam_labels(os.path.join(_DATA_DIRNAME, 'label_by_line_id.json'))\n",
    "\n",
    "assert os.path.exists(image_directory)\n",
    "\n",
    "x_train, y_train, x_val, y_val, x_test, y_test = iam_helper(\n",
    "    image_directory=image_directory,\n",
    "    label_dict=label_by_line_id,\n",
    "    label_to_int_mapping=char_to_int_dict,\n",
    "    image_height=image_height\n",
    ")"
   ]
  },
  {
   "cell_type": "code",
   "execution_count": null,
   "metadata": {},
   "outputs": [],
   "source": []
  }
 ],
 "metadata": {
  "kernelspec": {
   "display_name": "Python 3",
   "language": "python",
   "name": "python3"
  },
  "language_info": {
   "codemirror_mode": {
    "name": "ipython",
    "version": 3
   },
   "file_extension": ".py",
   "mimetype": "text/x-python",
   "name": "python",
   "nbconvert_exporter": "python",
   "pygments_lexer": "ipython3",
   "version": "3.6.4"
  }
 },
 "nbformat": 4,
 "nbformat_minor": 2
}
